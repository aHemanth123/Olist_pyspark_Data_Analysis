{
 "cells": [
  {
   "cell_type": "code",
   "execution_count": 0,
   "metadata": {
    "application/vnd.databricks.v1+cell": {
     "cellMetadata": {
      "byteLimit": 2048000,
      "rowLimit": 10000
     },
     "inputWidgets": {},
     "nuid": "828107a1-9d9e-4d99-b2a2-8d6439dd4087",
     "showTitle": false,
     "tableResultSettingsMap": {},
     "title": ""
    }
   },
   "outputs": [
    {
     "output_type": "display_data",
     "data": {
      "text/html": [
       "\n",
       "            <div>\n",
       "                <p><b>SparkSession - hive</b></p>\n",
       "                \n",
       "        <div>\n",
       "            <p><b>SparkContext</b></p>\n",
       "\n",
       "            <p><a href=\"/?o=2173472534982161#setting/sparkui/0628-060703-phzegtt3/driver-1497281545955082265\">Spark UI</a></p>\n",
       "\n",
       "            <dl>\n",
       "              <dt>Version</dt>\n",
       "                <dd><code>v3.3.2</code></dd>\n",
       "              <dt>Master</dt>\n",
       "                <dd><code>local[8]</code></dd>\n",
       "              <dt>AppName</dt>\n",
       "                <dd><code>Databricks Shell</code></dd>\n",
       "            </dl>\n",
       "        </div>\n",
       "        \n",
       "            </div>\n",
       "        "
      ]
     },
     "metadata": {
      "application/vnd.databricks.v1+output": {
       "addedWidgets": {},
       "arguments": {},
       "data": "\n            <div>\n                <p><b>SparkSession - hive</b></p>\n                \n        <div>\n            <p><b>SparkContext</b></p>\n\n            <p><a href=\"/?o=2173472534982161#setting/sparkui/0628-060703-phzegtt3/driver-1497281545955082265\">Spark UI</a></p>\n\n            <dl>\n              <dt>Version</dt>\n                <dd><code>v3.3.2</code></dd>\n              <dt>Master</dt>\n                <dd><code>local[8]</code></dd>\n              <dt>AppName</dt>\n                <dd><code>Databricks Shell</code></dd>\n            </dl>\n        </div>\n        \n            </div>\n        ",
       "datasetInfos": [],
       "metadata": {},
       "removedWidgets": [],
       "textData": null,
       "type": "htmlSandbox"
      }
     },
     "output_type": "display_data"
    }
   ],
   "source": [
    "spark"
   ]
  },
  {
   "cell_type": "code",
   "execution_count": 0,
   "metadata": {
    "application/vnd.databricks.v1+cell": {
     "cellMetadata": {
      "byteLimit": 2048000,
      "rowLimit": 10000
     },
     "inputWidgets": {},
     "nuid": "f35cebfc-bb71-4640-ae3b-eea839186831",
     "showTitle": false,
     "tableResultSettingsMap": {},
     "title": ""
    }
   },
   "outputs": [],
   "source": [
    "base = \"dbfs:/FileStore/tables/\""
   ]
  },
  {
   "cell_type": "markdown",
   "metadata": {
    "application/vnd.databricks.v1+cell": {
     "cellMetadata": {
      "byteLimit": 2048000,
      "rowLimit": 10000
     },
     "inputWidgets": {},
     "nuid": "ae08a921-ceed-4487-93c9-b272ec8514e6",
     "showTitle": false,
     "tableResultSettingsMap": {},
     "title": ""
    }
   },
   "source": [
    "# Loading Datasets from Databricks File Storage"
   ]
  },
  {
   "cell_type": "code",
   "execution_count": 0,
   "metadata": {
    "application/vnd.databricks.v1+cell": {
     "cellMetadata": {
      "byteLimit": 2048000,
      "rowLimit": 10000
     },
     "inputWidgets": {},
     "nuid": "f683a59f-4aaf-4cab-873e-48602469e179",
     "showTitle": false,
     "tableResultSettingsMap": {},
     "title": ""
    }
   },
   "outputs": [],
   "source": [
    "customers = spark.read.option(\"header\",True).csv(base + \"olist_customers_dataset.csv\")\n",
    "geoloc = spark.read.option(\"header\",True).csv(base + \"olist_geolocation_dataset.csv\")\n",
    "items = spark.read.option(\"header\",True).csv(base + \"olist_order_items_dataset.csv\")\n",
    "\n",
    "payments = spark.read.option(\"header\",True).csv(base + \"olist_order_payments_dataset.csv\")\n",
    "reviews = spark.read.option(\"header\",True).csv(base + \"olist_order_reviews_dataset.csv\")\n",
    "orders = spark.read.option(\"header\",True).csv(base + \"olist_orders_dataset.csv\")\n",
    "\n",
    "products = spark.read.option(\"header\",True).csv(base + \"olist_products_dataset.csv\")\n",
    "sellers = spark.read.option(\"header\",True).csv(base + \"olist_sellers_dataset.csv\")\n",
    "cat_trans = spark.read.option(\"header\",True).csv(base + \"product_category_name_translation.csv\")"
   ]
  },
  {
   "cell_type": "markdown",
   "metadata": {
    "application/vnd.databricks.v1+cell": {
     "cellMetadata": {
      "byteLimit": 2048000,
      "rowLimit": 10000
     },
     "inputWidgets": {},
     "nuid": "316dd574-7526-44bb-8de2-5c4514de255b",
     "showTitle": false,
     "tableResultSettingsMap": {},
     "title": ""
    }
   },
   "source": [
    "# Clean & Prepare Data"
   ]
  },
  {
   "cell_type": "code",
   "execution_count": 0,
   "metadata": {
    "application/vnd.databricks.v1+cell": {
     "cellMetadata": {
      "byteLimit": 2048000,
      "rowLimit": 10000
     },
     "inputWidgets": {},
     "nuid": "fbc07c7b-a2e2-4b2e-aca0-aa40b32cf313",
     "showTitle": false,
     "tableResultSettingsMap": {},
     "title": ""
    }
   },
   "outputs": [],
   "source": [
    "from pyspark.sql.functions import to_timestamp\n",
    "\n",
    "orders = orders.withColumn(\"order_purchase_timestamp\", to_timestamp(\"order_purchase_timestamp\"))\n"
   ]
  },
  {
   "cell_type": "code",
   "execution_count": 0,
   "metadata": {
    "application/vnd.databricks.v1+cell": {
     "cellMetadata": {
      "byteLimit": 2048000,
      "rowLimit": 10000
     },
     "inputWidgets": {},
     "nuid": "80e9fe64-492c-402e-a6cf-a43351b185cb",
     "showTitle": false,
     "tableResultSettingsMap": {},
     "title": ""
    }
   },
   "outputs": [
    {
     "output_type": "stream",
     "name": "stdout",
     "output_type": "stream",
     "text": [
      "+--------------------+--------------------+------------+------------------------+-------------------+----------------------------+-----------------------------+-----------------------------+\n|            order_id|         customer_id|order_status|order_purchase_timestamp|  order_approved_at|order_delivered_carrier_date|order_delivered_customer_date|order_estimated_delivery_date|\n+--------------------+--------------------+------------+------------------------+-------------------+----------------------------+-----------------------------+-----------------------------+\n|e481f51cbdc54678b...|9ef432eb625129730...|   delivered|     2017-10-02 10:56:33|2017-10-02 11:07:15|         2017-10-04 19:55:00|          2017-10-10 21:25:13|          2017-10-18 00:00:00|\n|53cdb2fc8bc7dce0b...|b0830fb4747a6c6d2...|   delivered|     2018-07-24 20:41:37|2018-07-26 03:24:27|         2018-07-26 14:31:00|          2018-08-07 15:27:45|          2018-08-13 00:00:00|\n|47770eb9100c2d0c4...|41ce2a54c0b03bf34...|   delivered|     2018-08-08 08:38:49|2018-08-08 08:55:23|         2018-08-08 13:50:00|          2018-08-17 18:06:29|          2018-09-04 00:00:00|\n|949d5b44dbf5de918...|f88197465ea7920ad...|   delivered|     2017-11-18 19:28:06|2017-11-18 19:45:59|         2017-11-22 13:39:59|          2017-12-02 00:28:42|          2017-12-15 00:00:00|\n|ad21c59c0840e6cb8...|8ab97904e6daea886...|   delivered|     2018-02-13 21:18:39|2018-02-13 22:20:29|         2018-02-14 19:46:34|          2018-02-16 18:17:02|          2018-02-26 00:00:00|\n+--------------------+--------------------+------------+------------------------+-------------------+----------------------------+-----------------------------+-----------------------------+\nonly showing top 5 rows\n\n"
     ]
    }
   ],
   "source": [
    "orders.show(5)"
   ]
  },
  {
   "cell_type": "markdown",
   "metadata": {
    "application/vnd.databricks.v1+cell": {
     "cellMetadata": {
      "byteLimit": 2048000,
      "rowLimit": 10000
     },
     "inputWidgets": {},
     "nuid": "0872a6d3-80e5-47fc-80b0-fed3316889c5",
     "showTitle": false,
     "tableResultSettingsMap": {},
     "title": ""
    }
   },
   "source": [
    "# Converting Data Types"
   ]
  },
  {
   "cell_type": "code",
   "execution_count": 0,
   "metadata": {
    "application/vnd.databricks.v1+cell": {
     "cellMetadata": {
      "byteLimit": 2048000,
      "rowLimit": 10000
     },
     "inputWidgets": {},
     "nuid": "a6f922aa-b92e-42a6-856d-7f3fd8b1595c",
     "showTitle": false,
     "tableResultSettingsMap": {},
     "title": ""
    }
   },
   "outputs": [],
   "source": [
    "from pyspark.sql.functions import col, sum, count, avg, row_number,  when, datediff, max, min, lit\n",
    "\n",
    "items = items.withColumn(\"price\", col(\"price\").cast(\"double\")) \\\n",
    "             .withColumn(\"freight_value\", col(\"freight_value\").cast(\"double\")) \\\n",
    "             .withColumn(\"order_item_id\", col(\"order_item_id\").cast(\"int\"))"
   ]
  },
  {
   "cell_type": "code",
   "execution_count": 0,
   "metadata": {
    "application/vnd.databricks.v1+cell": {
     "cellMetadata": {
      "byteLimit": 2048000,
      "rowLimit": 10000
     },
     "inputWidgets": {},
     "nuid": "474ba531-f1af-443c-a9f1-b4f87b5b7f68",
     "showTitle": false,
     "tableResultSettingsMap": {},
     "title": ""
    }
   },
   "outputs": [],
   "source": [
    "\n",
    "payments = payments.withColumn(\"payment_value\", col(\"payment_value\").cast(\"double\"))"
   ]
  },
  {
   "cell_type": "markdown",
   "metadata": {
    "application/vnd.databricks.v1+cell": {
     "cellMetadata": {
      "byteLimit": 2048000,
      "rowLimit": 10000
     },
     "inputWidgets": {},
     "nuid": "aea2941b-0314-4fdd-ad2e-9eb7893e9d6f",
     "showTitle": false,
     "tableResultSettingsMap": {},
     "title": ""
    }
   },
   "source": [
    "#Performing Joins "
   ]
  },
  {
   "cell_type": "code",
   "execution_count": 0,
   "metadata": {
    "application/vnd.databricks.v1+cell": {
     "cellMetadata": {
      "byteLimit": 2048000,
      "rowLimit": 10000
     },
     "inputWidgets": {},
     "nuid": "4d8e917c-8c35-48c7-9be8-0b663f74ccb2",
     "showTitle": false,
     "tableResultSettingsMap": {},
     "title": ""
    }
   },
   "outputs": [],
   "source": [
    "products = products.join(cat_trans, \"product_category_name\", \"left\")"
   ]
  },
  {
   "cell_type": "code",
   "execution_count": 0,
   "metadata": {
    "application/vnd.databricks.v1+cell": {
     "cellMetadata": {
      "byteLimit": 2048000,
      "rowLimit": 10000
     },
     "inputWidgets": {},
     "nuid": "42439b81-d718-4633-8dd4-56588596eaef",
     "showTitle": false,
     "tableResultSettingsMap": {},
     "title": ""
    }
   },
   "outputs": [],
   "source": [
    "df = items.join(orders, \"order_id\", \"inner\") \\\n",
    "          .join(customers, \"customer_id\", \"inner\") \\\n",
    "          .join(products, \"product_id\", \"left\") \\\n",
    "          .join(sellers, \"seller_id\", \"inner\")\n"
   ]
  },
  {
   "cell_type": "code",
   "execution_count": 0,
   "metadata": {
    "application/vnd.databricks.v1+cell": {
     "cellMetadata": {
      "byteLimit": 2048000,
      "rowLimit": 10000
     },
     "inputWidgets": {},
     "nuid": "9eda8451-a83a-4457-85a0-3fa3607516ad",
     "showTitle": false,
     "tableResultSettingsMap": {},
     "title": ""
    }
   },
   "outputs": [
    {
     "output_type": "stream",
     "name": "stdout",
     "output_type": "stream",
     "text": [
      "['seller_id', 'product_id', 'customer_id', 'order_id', 'order_item_id', 'shipping_limit_date', 'price', 'freight_value', 'order_status', 'order_purchase_timestamp', 'order_approved_at', 'order_delivered_carrier_date', 'order_delivered_customer_date', 'order_estimated_delivery_date', 'customer_unique_id', 'customer_zip_code_prefix', 'customer_city', 'customer_state', 'product_category_name', 'product_name_lenght', 'product_description_lenght', 'product_photos_qty', 'product_weight_g', 'product_length_cm', 'product_height_cm', 'product_width_cm', 'product_category_name_english', 'seller_zip_code_prefix', 'seller_city', 'seller_state']\n"
     ]
    }
   ],
   "source": [
    "# df.show(5)\n",
    "column_names = df.columns \n",
    "print(column_names)"
   ]
  },
  {
   "cell_type": "markdown",
   "metadata": {
    "application/vnd.databricks.v1+cell": {
     "cellMetadata": {
      "byteLimit": 2048000,
      "rowLimit": 10000
     },
     "inputWidgets": {},
     "nuid": "cc1a4b66-ef31-46ab-8a2e-78332bd42871",
     "showTitle": false,
     "tableResultSettingsMap": {},
     "title": ""
    }
   },
   "source": [
    "#  Checking  for Duplicates"
   ]
  },
  {
   "cell_type": "code",
   "execution_count": 0,
   "metadata": {
    "application/vnd.databricks.v1+cell": {
     "cellMetadata": {
      "byteLimit": 2048000,
      "rowLimit": 10000
     },
     "inputWidgets": {},
     "nuid": "c39217b2-4e3c-47b2-9455-180fef5fe1a5",
     "showTitle": false,
     "tableResultSettingsMap": {},
     "title": ""
    }
   },
   "outputs": [
    {
     "output_type": "stream",
     "name": "stdout",
     "output_type": "stream",
     "text": [
      "Total rows: 112650, Distinct rows: 112650\n"
     ]
    }
   ],
   "source": [
    "total_rows = df.count()\n",
    "distinct_rows = df.dropDuplicates().count()\n",
    "print(f\"Total rows: {total_rows}, Distinct rows: {distinct_rows}\")\n"
   ]
  },
  {
   "cell_type": "code",
   "execution_count": 0,
   "metadata": {
    "application/vnd.databricks.v1+cell": {
     "cellMetadata": {
      "byteLimit": 2048000,
      "rowLimit": 10000
     },
     "inputWidgets": {},
     "nuid": "dc746a97-afa8-495f-af6f-f4104a10a12b",
     "showTitle": false,
     "tableResultSettingsMap": {},
     "title": ""
    }
   },
   "outputs": [
    {
     "output_type": "stream",
     "name": "stdout",
     "output_type": "stream",
     "text": [
      "Null/NaN counts in numeric columns:\n++\n||\n++\n||\n||\n||\n||\n||\n||\n||\n||\n||\n||\n||\n||\n||\n||\n||\n||\n||\n||\n||\n||\n++\nonly showing top 20 rows\n\nNull counts in non-numeric columns:\n+---------+----------+-----------+--------+-------------+-------------------+-----+-------------+------------+------------------------+-----------------+----------------------------+-----------------------------+-----------------------------+------------------+------------------------+-------------+--------------+---------------------+-------------------+--------------------------+------------------+----------------+-----------------+-----------------+----------------+-----------------------------+----------------------+-----------+------------+\n|seller_id|product_id|customer_id|order_id|order_item_id|shipping_limit_date|price|freight_value|order_status|order_purchase_timestamp|order_approved_at|order_delivered_carrier_date|order_delivered_customer_date|order_estimated_delivery_date|customer_unique_id|customer_zip_code_prefix|customer_city|customer_state|product_category_name|product_name_lenght|product_description_lenght|product_photos_qty|product_weight_g|product_length_cm|product_height_cm|product_width_cm|product_category_name_english|seller_zip_code_prefix|seller_city|seller_state|\n+---------+----------+-----------+--------+-------------+-------------------+-----+-------------+------------+------------------------+-----------------+----------------------------+-----------------------------+-----------------------------+------------------+------------------------+-------------+--------------+---------------------+-------------------+--------------------------+------------------+----------------+-----------------+-----------------+----------------+-----------------------------+----------------------+-----------+------------+\n|0        |0         |0          |0       |0            |0                  |0    |0            |0           |0                       |15               |1194                        |2454                         |0                            |0                 |0                       |0            |0             |1603                 |1603               |1603                      |1603              |18              |18               |18               |18              |1627                         |0                     |0          |0           |\n+---------+----------+-----------+--------+-------------+-------------------+-----+-------------+------------+------------------------+-----------------+----------------------------+-----------------------------+-----------------------------+------------------+------------------------+-------------+--------------+---------------------+-------------------+--------------------------+------------------+----------------+-----------------+-----------------+----------------+-----------------------------+----------------------+-----------+------------+\n\n"
     ]
    }
   ],
   "source": [
    "from pyspark.sql.functions import col, count, isnan\n",
    " \n",
    "numeric_cols = [field.name for field in df.schema.fields if str(field.dataType) in ['DoubleType', 'IntegerType']]\n",
    "other_cols = [field.name for field in df.schema.fields if field.name not in numeric_cols]\n",
    " \n",
    "numeric_nulls = df.select([\n",
    "    count(when(col(c).isNull() | isnan(c), c)).alias(c) for c in numeric_cols\n",
    "])\n",
    "\n",
    "# Count only nulls for string/timestamp columns\n",
    "non_numeric_nulls = df.select([\n",
    "    count(when(col(c).isNull(), c)).alias(c) for c in other_cols\n",
    "])\n",
    " \n",
    "print(\"Null/NaN counts in numeric columns:\")\n",
    "numeric_nulls.show(truncate=False)\n",
    "\n",
    "print(\"Null counts in non-numeric columns:\")\n",
    "non_numeric_nulls.show(truncate=False)\n"
   ]
  },
  {
   "cell_type": "code",
   "execution_count": 0,
   "metadata": {
    "application/vnd.databricks.v1+cell": {
     "cellMetadata": {
      "byteLimit": 2048000,
      "rowLimit": 10000
     },
     "inputWidgets": {},
     "nuid": "49597727-0a1c-4853-afca-112468521c86",
     "showTitle": false,
     "tableResultSettingsMap": {},
     "title": ""
    }
   },
   "outputs": [],
   "source": [
    "df = df.na.fill({\n",
    "    \"product_photos_qty\": 0,\n",
    "    \"product_name_lenght\": 0,\n",
    "    \"product_description_lenght\": 0\n",
    "}) \n"
   ]
  },
  {
   "cell_type": "code",
   "execution_count": 0,
   "metadata": {
    "application/vnd.databricks.v1+cell": {
     "cellMetadata": {
      "byteLimit": 2048000,
      "rowLimit": 10000
     },
     "inputWidgets": {},
     "nuid": "071d02bd-5541-498f-a807-9bedf0c9f35d",
     "showTitle": false,
     "tableResultSettingsMap": {},
     "title": ""
    }
   },
   "outputs": [
    {
     "output_type": "stream",
     "name": "stdout",
     "output_type": "stream",
     "text": [
      "['seller_id', 'product_id', 'customer_id', 'order_id', 'order_item_id', 'shipping_limit_date', 'price', 'freight_value', 'order_status', 'order_purchase_timestamp', 'order_approved_at', 'order_delivered_carrier_date', 'order_delivered_customer_date', 'order_estimated_delivery_date', 'customer_unique_id', 'customer_zip_code_prefix', 'customer_city', 'customer_state', 'product_category_name', 'product_name_lenght', 'product_description_lenght', 'product_photos_qty', 'product_weight_g', 'product_length_cm', 'product_height_cm', 'product_width_cm', 'product_category_name_english', 'seller_zip_code_prefix', 'seller_city', 'seller_state']\n"
     ]
    }
   ],
   "source": [
    "column_names = df.columns \n",
    "print(column_names)"
   ]
  },
  {
   "cell_type": "markdown",
   "metadata": {
    "application/vnd.databricks.v1+cell": {
     "cellMetadata": {
      "byteLimit": 2048000,
      "rowLimit": 10000
     },
     "inputWidgets": {},
     "nuid": "4f0a3b7f-a853-41be-b682-ed0cf78ced34",
     "showTitle": false,
     "tableResultSettingsMap": {},
     "title": ""
    }
   },
   "source": [
    "# Top Selling Products per Region"
   ]
  },
  {
   "cell_type": "code",
   "execution_count": 0,
   "metadata": {
    "application/vnd.databricks.v1+cell": {
     "cellMetadata": {
      "byteLimit": 2048000,
      "rowLimit": 10000
     },
     "inputWidgets": {},
     "nuid": "d35db7a7-0cae-4ff5-9968-d0066b07d428",
     "showTitle": false,
     "tableResultSettingsMap": {},
     "title": ""
    }
   },
   "outputs": [
    {
     "output_type": "display_data",
     "data": {
      "text/html": [
       "<style scoped>\n",
       "  .table-result-container {\n",
       "    max-height: 300px;\n",
       "    overflow: auto;\n",
       "  }\n",
       "  table, th, td {\n",
       "    border: 1px solid black;\n",
       "    border-collapse: collapse;\n",
       "  }\n",
       "  th, td {\n",
       "    padding: 5px;\n",
       "  }\n",
       "  th {\n",
       "    text-align: left;\n",
       "  }\n",
       "</style><div class='table-result-container'><table class='table-result'><thead style='background-color: white'><tr><th>customer_state</th><th>product_category_name_english</th><th>units_sold</th><th>total_revenue</th><th>rank</th></tr></thead><tbody><tr><td>AC</td><td>furniture_decor</td><td>28</td><td>2684.8400000000006</td><td>1</td></tr><tr><td>AC</td><td>computers_accessories</td><td>12</td><td>1350.18</td><td>2</td></tr><tr><td>AC</td><td>sports_leisure</td><td>9</td><td>1677.46</td><td>3</td></tr><tr><td>AC</td><td>health_beauty</td><td>8</td><td>1571.48</td><td>4</td></tr><tr><td>AC</td><td>bed_bath_table</td><td>6</td><td>767.5</td><td>5</td></tr><tr><td>AL</td><td>health_beauty</td><td>63</td><td>12780.259999999998</td><td>1</td></tr><tr><td>AL</td><td>computers_accessories</td><td>51</td><td>10035.58</td><td>2</td></tr><tr><td>AL</td><td>furniture_decor</td><td>49</td><td>4893.79</td><td>3</td></tr><tr><td>AL</td><td>watches_gifts</td><td>37</td><td>11922.27</td><td>4</td></tr><tr><td>AL</td><td>sports_leisure</td><td>34</td><td>3860.68</td><td>5</td></tr><tr><td>AM</td><td>computers_accessories</td><td>30</td><td>3119.74</td><td>1</td></tr><tr><td>AM</td><td>health_beauty</td><td>29</td><td>3164.4999999999995</td><td>2</td></tr><tr><td>AM</td><td>telephony</td><td>16</td><td>795.99</td><td>3</td></tr><tr><td>AM</td><td>sports_leisure</td><td>12</td><td>1362.6000000000001</td><td>4</td></tr><tr><td>AM</td><td>watches_gifts</td><td>11</td><td>1811.35</td><td>5</td></tr><tr><td>AP</td><td>fixed_telephony</td><td>16</td><td>632.84</td><td>1</td></tr><tr><td>AP</td><td>computers_accessories</td><td>11</td><td>2978.54</td><td>2</td></tr><tr><td>AP</td><td>bed_bath_table</td><td>10</td><td>1039.1000000000001</td><td>3</td></tr><tr><td>AP</td><td>health_beauty</td><td>10</td><td>1380.58</td><td>4</td></tr><tr><td>AP</td><td>watches_gifts</td><td>9</td><td>1717.8</td><td>5</td></tr><tr><td>BA</td><td>health_beauty</td><td>374</td><td>54667.87999999997</td><td>1</td></tr><tr><td>BA</td><td>sports_leisure</td><td>347</td><td>44144.619999999966</td><td>2</td></tr><tr><td>BA</td><td>furniture_decor</td><td>332</td><td>29556.819999999985</td><td>3</td></tr><tr><td>BA</td><td>bed_bath_table</td><td>329</td><td>32194.69999999998</td><td>4</td></tr><tr><td>BA</td><td>computers_accessories</td><td>324</td><td>41842.36</td><td>5</td></tr><tr><td>CE</td><td>health_beauty</td><td>185</td><td>36649.75999999999</td><td>1</td></tr><tr><td>CE</td><td>watches_gifts</td><td>144</td><td>30667.229999999996</td><td>2</td></tr><tr><td>CE</td><td>furniture_decor</td><td>112</td><td>10816.330000000002</td><td>3</td></tr><tr><td>CE</td><td>computers_accessories</td><td>107</td><td>14660.629999999996</td><td>4</td></tr><tr><td>CE</td><td>bed_bath_table</td><td>104</td><td>8729.280000000002</td><td>5</td></tr><tr><td>DF</td><td>health_beauty</td><td>273</td><td>31286.239999999976</td><td>1</td></tr><tr><td>DF</td><td>sports_leisure</td><td>269</td><td>26711.819999999992</td><td>2</td></tr><tr><td>DF</td><td>bed_bath_table</td><td>258</td><td>19547.009999999995</td><td>3</td></tr><tr><td>DF</td><td>furniture_decor</td><td>226</td><td>16420.23</td><td>4</td></tr><tr><td>DF</td><td>housewares</td><td>219</td><td>16513.850000000002</td><td>5</td></tr><tr><td>ES</td><td>bed_bath_table</td><td>256</td><td>25662.72999999999</td><td>1</td></tr><tr><td>ES</td><td>furniture_decor</td><td>197</td><td>16559.179999999997</td><td>2</td></tr><tr><td>ES</td><td>sports_leisure</td><td>194</td><td>21266.359999999993</td><td>3</td></tr><tr><td>ES</td><td>health_beauty</td><td>182</td><td>21360.249999999996</td><td>4</td></tr><tr><td>ES</td><td>computers_accessories</td><td>177</td><td>16159.699999999997</td><td>5</td></tr><tr><td>GO</td><td>bed_bath_table</td><td>303</td><td>28787.20999999999</td><td>1</td></tr><tr><td>GO</td><td>auto</td><td>299</td><td>30550.68000000001</td><td>2</td></tr><tr><td>GO</td><td>garden_tools</td><td>286</td><td>25596.789999999997</td><td>3</td></tr><tr><td>GO</td><td>health_beauty</td><td>255</td><td>29738.03999999998</td><td>4</td></tr><tr><td>GO</td><td>housewares</td><td>240</td><td>22650.239999999998</td><td>5</td></tr><tr><td>MA</td><td>health_beauty</td><td>98</td><td>13512.999999999998</td><td>1</td></tr><tr><td>MA</td><td>computers_accessories</td><td>91</td><td>15271.279999999999</td><td>2</td></tr><tr><td>MA</td><td>sports_leisure</td><td>78</td><td>9826.86</td><td>3</td></tr><tr><td>MA</td><td>telephony</td><td>70</td><td>5364.71</td><td>4</td></tr><tr><td>MA</td><td>watches_gifts</td><td>64</td><td>10138.989999999998</td><td>5</td></tr><tr><td>MG</td><td>bed_bath_table</td><td>1621</td><td>153753.3600000004</td><td>1</td></tr><tr><td>MG</td><td>furniture_decor</td><td>1321</td><td>100651.63000000012</td><td>2</td></tr><tr><td>MG</td><td>health_beauty</td><td>1196</td><td>167201.59000000032</td><td>3</td></tr><tr><td>MG</td><td>computers_accessories</td><td>1184</td><td>129723.5600000002</td><td>4</td></tr><tr><td>MG</td><td>housewares</td><td>1150</td><td>93806.65000000002</td><td>5</td></tr><tr><td>MS</td><td>sports_leisure</td><td>96</td><td>10776.17</td><td>1</td></tr><tr><td>MS</td><td>furniture_decor</td><td>93</td><td>7206.51</td><td>2</td></tr><tr><td>MS</td><td>health_beauty</td><td>76</td><td>11848.430000000002</td><td>3</td></tr><tr><td>MS</td><td>computers_accessories</td><td>72</td><td>10662.68</td><td>4</td></tr><tr><td>MS</td><td>bed_bath_table</td><td>71</td><td>6440.31</td><td>5</td></tr><tr><td>MT</td><td>furniture_decor</td><td>106</td><td>8753.19</td><td>1</td></tr><tr><td>MT</td><td>health_beauty</td><td>97</td><td>16829.389999999992</td><td>2</td></tr><tr><td>MT</td><td>bed_bath_table</td><td>89</td><td>9201.79</td><td>3</td></tr><tr><td>MT</td><td>sports_leisure</td><td>83</td><td>9931.510000000002</td><td>4</td></tr><tr><td>MT</td><td>garden_tools</td><td>80</td><td>12057.16</td><td>5</td></tr><tr><td>PA</td><td>health_beauty</td><td>118</td><td>25193.07</td><td>1</td></tr><tr><td>PA</td><td>computers_accessories</td><td>99</td><td>13151.490000000002</td><td>2</td></tr><tr><td>PA</td><td>sports_leisure</td><td>97</td><td>14467.74</td><td>3</td></tr><tr><td>PA</td><td>furniture_decor</td><td>95</td><td>11547.11</td><td>4</td></tr><tr><td>PA</td><td>telephony</td><td>85</td><td>8831.06</td><td>5</td></tr><tr><td>PB</td><td>computers_accessories</td><td>81</td><td>9905.76</td><td>1</td></tr><tr><td>PB</td><td>health_beauty</td><td>79</td><td>16434.98</td><td>2</td></tr><tr><td>PB</td><td>furniture_decor</td><td>56</td><td>5510.41</td><td>3</td></tr><tr><td>PB</td><td>watches_gifts</td><td>43</td><td>13388.879999999997</td><td>4</td></tr><tr><td>PB</td><td>sports_leisure</td><td>40</td><td>5584.900000000001</td><td>5</td></tr><tr><td>PE</td><td>health_beauty</td><td>260</td><td>44225.28999999998</td><td>1</td></tr><tr><td>PE</td><td>watches_gifts</td><td>191</td><td>32601.77999999999</td><td>2</td></tr><tr><td>PE</td><td>sports_leisure</td><td>174</td><td>22025.229999999996</td><td>3</td></tr><tr><td>PE</td><td>telephony</td><td>137</td><td>11240.109999999995</td><td>4</td></tr><tr><td>PE</td><td>furniture_decor</td><td>133</td><td>12722.169999999998</td><td>5</td></tr><tr><td>PI</td><td>health_beauty</td><td>58</td><td>11437.38</td><td>1</td></tr><tr><td>PI</td><td>bed_bath_table</td><td>49</td><td>5724.55</td><td>2</td></tr><tr><td>PI</td><td>watches_gifts</td><td>46</td><td>8348.16</td><td>3</td></tr><tr><td>PI</td><td>auto</td><td>44</td><td>13785.679999999998</td><td>4</td></tr><tr><td>PI</td><td>telephony</td><td>41</td><td>3255.6600000000008</td><td>5</td></tr><tr><td>PR</td><td>furniture_decor</td><td>806</td><td>68986.10999999997</td><td>1</td></tr><tr><td>PR</td><td>bed_bath_table</td><td>570</td><td>54179.69999999996</td><td>2</td></tr><tr><td>PR</td><td>sports_leisure</td><td>568</td><td>64690.459999999985</td><td>3</td></tr><tr><td>PR</td><td>health_beauty</td><td>498</td><td>60060.20999999996</td><td>4</td></tr><tr><td>PR</td><td>computers_accessories</td><td>466</td><td>53053.539999999964</td><td>5</td></tr><tr><td>RJ</td><td>bed_bath_table</td><td>2019</td><td>175199.8500000006</td><td>1</td></tr><tr><td>RJ</td><td>furniture_decor</td><td>1446</td><td>121646.73000000021</td><td>2</td></tr><tr><td>RJ</td><td>sports_leisure</td><td>1229</td><td>138796.01000000027</td><td>3</td></tr><tr><td>RJ</td><td>computers_accessories</td><td>1220</td><td>142629.36000000025</td><td>4</td></tr><tr><td>RJ</td><td>health_beauty</td><td>1202</td><td>153475.55000000034</td><td>5</td></tr><tr><td>RN</td><td>health_beauty</td><td>59</td><td>13908.46</td><td>1</td></tr><tr><td>RN</td><td>watches_gifts</td><td>51</td><td>10409.32</td><td>2</td></tr><tr><td>RN</td><td>computers_accessories</td><td>38</td><td>3243.8699999999994</td><td>3</td></tr><tr><td>RN</td><td>bed_bath_table</td><td>38</td><td>4138.160000000001</td><td>4</td></tr><tr><td>RN</td><td>books_general_interest</td><td>33</td><td>1660.3</td><td>5</td></tr><tr><td>RO</td><td>computers_accessories</td><td>35</td><td>2476.4700000000003</td><td>1</td></tr><tr><td>RO</td><td>health_beauty</td><td>27</td><td>7304.76</td><td>2</td></tr><tr><td>RO</td><td>sports_leisure</td><td>24</td><td>3802.78</td><td>3</td></tr><tr><td>RO</td><td>telephony</td><td>21</td><td>720.0500000000001</td><td>4</td></tr><tr><td>RO</td><td>furniture_decor</td><td>18</td><td>2086.05</td><td>5</td></tr><tr><td>RR</td><td>sports_leisure</td><td>10</td><td>1668.5</td><td>1</td></tr><tr><td>RR</td><td>furniture_decor</td><td>8</td><td>825.44</td><td>2</td></tr><tr><td>RR</td><td>health_beauty</td><td>8</td><td>1132.17</td><td>3</td></tr><tr><td>RR</td><td>computers_accessories</td><td>5</td><td>468.01</td><td>4</td></tr><tr><td>RR</td><td>bed_bath_table</td><td>4</td><td>879.5999999999999</td><td>5</td></tr><tr><td>RS</td><td>furniture_decor</td><td>748</td><td>65117.76999999997</td><td>1</td></tr><tr><td>RS</td><td>bed_bath_table</td><td>731</td><td>68665.49999999997</td><td>2</td></tr><tr><td>RS</td><td>computers_accessories</td><td>661</td><td>73860.37999999998</td><td>3</td></tr><tr><td>RS</td><td>housewares</td><td>611</td><td>50826.39999999997</td><td>4</td></tr><tr><td>RS</td><td>sports_leisure</td><td>544</td><td>58628.18999999995</td><td>5</td></tr><tr><td>SC</td><td>furniture_decor</td><td>481</td><td>39429.159999999974</td><td>1</td></tr><tr><td>SC</td><td>sports_leisure</td><td>422</td><td>49050.10999999997</td><td>2</td></tr><tr><td>SC</td><td>bed_bath_table</td><td>409</td><td>37113.329999999965</td><td>3</td></tr><tr><td>SC</td><td>computers_accessories</td><td>392</td><td>47586.489999999976</td><td>4</td></tr><tr><td>SC</td><td>health_beauty</td><td>333</td><td>41285.59999999997</td><td>5</td></tr><tr><td>SE</td><td>garden_tools</td><td>45</td><td>4550.29</td><td>1</td></tr><tr><td>SE</td><td>health_beauty</td><td>40</td><td>8883.66</td><td>2</td></tr><tr><td>SE</td><td>computers_accessories</td><td>40</td><td>4652.6</td><td>3</td></tr><tr><td>SE</td><td>sports_leisure</td><td>40</td><td>3506.42</td><td>4</td></tr><tr><td>SE</td><td>furniture_decor</td><td>32</td><td>5512.6900000000005</td><td>5</td></tr><tr><td>SP</td><td>bed_bath_table</td><td>6499</td><td>565494.9799999951</td><td>1</td></tr><tr><td>SP</td><td>health_beauty</td><td>5001</td><td>502103.47999999934</td><td>2</td></tr><tr><td>SP</td><td>furniture_decor</td><td>4923</td><td>368419.5699999997</td><td>3</td></tr><tr><td>SP</td><td>computers_accessories</td><td>4179</td><td>456107.50999999914</td><td>4</td></tr><tr><td>SP</td><td>sports_leisure</td><td>4171</td><td>419751.6799999992</td><td>5</td></tr><tr><td>TO</td><td>health_beauty</td><td>53</td><td>5639.39</td><td>1</td></tr><tr><td>TO</td><td>watches_gifts</td><td>34</td><td>5819.89</td><td>2</td></tr><tr><td>TO</td><td>sports_leisure</td><td>27</td><td>5312.780000000001</td><td>3</td></tr><tr><td>TO</td><td>furniture_decor</td><td>24</td><td>3099.09</td><td>4</td></tr><tr><td>TO</td><td>computers_accessories</td><td>23</td><td>4505.869999999999</td><td>5</td></tr></tbody></table></div>"
      ]
     },
     "metadata": {
      "application/vnd.databricks.v1+output": {
       "addedWidgets": {},
       "aggData": [],
       "aggError": "",
       "aggOverflow": false,
       "aggSchema": [],
       "aggSeriesLimitReached": false,
       "aggType": "",
       "arguments": {},
       "columnCustomDisplayInfos": {},
       "data": [
        [
         "AC",
         "furniture_decor",
         28,
         2684.8400000000006,
         1
        ],
        [
         "AC",
         "computers_accessories",
         12,
         1350.18,
         2
        ],
        [
         "AC",
         "sports_leisure",
         9,
         1677.46,
         3
        ],
        [
         "AC",
         "health_beauty",
         8,
         1571.48,
         4
        ],
        [
         "AC",
         "bed_bath_table",
         6,
         767.5,
         5
        ],
        [
         "AL",
         "health_beauty",
         63,
         12780.259999999998,
         1
        ],
        [
         "AL",
         "computers_accessories",
         51,
         10035.58,
         2
        ],
        [
         "AL",
         "furniture_decor",
         49,
         4893.79,
         3
        ],
        [
         "AL",
         "watches_gifts",
         37,
         11922.27,
         4
        ],
        [
         "AL",
         "sports_leisure",
         34,
         3860.68,
         5
        ],
        [
         "AM",
         "computers_accessories",
         30,
         3119.74,
         1
        ],
        [
         "AM",
         "health_beauty",
         29,
         3164.4999999999995,
         2
        ],
        [
         "AM",
         "telephony",
         16,
         795.99,
         3
        ],
        [
         "AM",
         "sports_leisure",
         12,
         1362.6000000000001,
         4
        ],
        [
         "AM",
         "watches_gifts",
         11,
         1811.35,
         5
        ],
        [
         "AP",
         "fixed_telephony",
         16,
         632.84,
         1
        ],
        [
         "AP",
         "computers_accessories",
         11,
         2978.54,
         2
        ],
        [
         "AP",
         "bed_bath_table",
         10,
         1039.1000000000001,
         3
        ],
        [
         "AP",
         "health_beauty",
         10,
         1380.58,
         4
        ],
        [
         "AP",
         "watches_gifts",
         9,
         1717.8,
         5
        ],
        [
         "BA",
         "health_beauty",
         374,
         54667.87999999997,
         1
        ],
        [
         "BA",
         "sports_leisure",
         347,
         44144.619999999966,
         2
        ],
        [
         "BA",
         "furniture_decor",
         332,
         29556.819999999985,
         3
        ],
        [
         "BA",
         "bed_bath_table",
         329,
         32194.69999999998,
         4
        ],
        [
         "BA",
         "computers_accessories",
         324,
         41842.36,
         5
        ],
        [
         "CE",
         "health_beauty",
         185,
         36649.75999999999,
         1
        ],
        [
         "CE",
         "watches_gifts",
         144,
         30667.229999999996,
         2
        ],
        [
         "CE",
         "furniture_decor",
         112,
         10816.330000000002,
         3
        ],
        [
         "CE",
         "computers_accessories",
         107,
         14660.629999999996,
         4
        ],
        [
         "CE",
         "bed_bath_table",
         104,
         8729.280000000002,
         5
        ],
        [
         "DF",
         "health_beauty",
         273,
         31286.239999999976,
         1
        ],
        [
         "DF",
         "sports_leisure",
         269,
         26711.819999999992,
         2
        ],
        [
         "DF",
         "bed_bath_table",
         258,
         19547.009999999995,
         3
        ],
        [
         "DF",
         "furniture_decor",
         226,
         16420.23,
         4
        ],
        [
         "DF",
         "housewares",
         219,
         16513.850000000002,
         5
        ],
        [
         "ES",
         "bed_bath_table",
         256,
         25662.72999999999,
         1
        ],
        [
         "ES",
         "furniture_decor",
         197,
         16559.179999999997,
         2
        ],
        [
         "ES",
         "sports_leisure",
         194,
         21266.359999999993,
         3
        ],
        [
         "ES",
         "health_beauty",
         182,
         21360.249999999996,
         4
        ],
        [
         "ES",
         "computers_accessories",
         177,
         16159.699999999997,
         5
        ],
        [
         "GO",
         "bed_bath_table",
         303,
         28787.20999999999,
         1
        ],
        [
         "GO",
         "auto",
         299,
         30550.68000000001,
         2
        ],
        [
         "GO",
         "garden_tools",
         286,
         25596.789999999997,
         3
        ],
        [
         "GO",
         "health_beauty",
         255,
         29738.03999999998,
         4
        ],
        [
         "GO",
         "housewares",
         240,
         22650.239999999998,
         5
        ],
        [
         "MA",
         "health_beauty",
         98,
         13512.999999999998,
         1
        ],
        [
         "MA",
         "computers_accessories",
         91,
         15271.279999999999,
         2
        ],
        [
         "MA",
         "sports_leisure",
         78,
         9826.86,
         3
        ],
        [
         "MA",
         "telephony",
         70,
         5364.71,
         4
        ],
        [
         "MA",
         "watches_gifts",
         64,
         10138.989999999998,
         5
        ],
        [
         "MG",
         "bed_bath_table",
         1621,
         153753.3600000004,
         1
        ],
        [
         "MG",
         "furniture_decor",
         1321,
         100651.63000000012,
         2
        ],
        [
         "MG",
         "health_beauty",
         1196,
         167201.59000000032,
         3
        ],
        [
         "MG",
         "computers_accessories",
         1184,
         129723.5600000002,
         4
        ],
        [
         "MG",
         "housewares",
         1150,
         93806.65000000002,
         5
        ],
        [
         "MS",
         "sports_leisure",
         96,
         10776.17,
         1
        ],
        [
         "MS",
         "furniture_decor",
         93,
         7206.51,
         2
        ],
        [
         "MS",
         "health_beauty",
         76,
         11848.430000000002,
         3
        ],
        [
         "MS",
         "computers_accessories",
         72,
         10662.68,
         4
        ],
        [
         "MS",
         "bed_bath_table",
         71,
         6440.31,
         5
        ],
        [
         "MT",
         "furniture_decor",
         106,
         8753.19,
         1
        ],
        [
         "MT",
         "health_beauty",
         97,
         16829.389999999992,
         2
        ],
        [
         "MT",
         "bed_bath_table",
         89,
         9201.79,
         3
        ],
        [
         "MT",
         "sports_leisure",
         83,
         9931.510000000002,
         4
        ],
        [
         "MT",
         "garden_tools",
         80,
         12057.16,
         5
        ],
        [
         "PA",
         "health_beauty",
         118,
         25193.07,
         1
        ],
        [
         "PA",
         "computers_accessories",
         99,
         13151.490000000002,
         2
        ],
        [
         "PA",
         "sports_leisure",
         97,
         14467.74,
         3
        ],
        [
         "PA",
         "furniture_decor",
         95,
         11547.11,
         4
        ],
        [
         "PA",
         "telephony",
         85,
         8831.06,
         5
        ],
        [
         "PB",
         "computers_accessories",
         81,
         9905.76,
         1
        ],
        [
         "PB",
         "health_beauty",
         79,
         16434.98,
         2
        ],
        [
         "PB",
         "furniture_decor",
         56,
         5510.41,
         3
        ],
        [
         "PB",
         "watches_gifts",
         43,
         13388.879999999997,
         4
        ],
        [
         "PB",
         "sports_leisure",
         40,
         5584.900000000001,
         5
        ],
        [
         "PE",
         "health_beauty",
         260,
         44225.28999999998,
         1
        ],
        [
         "PE",
         "watches_gifts",
         191,
         32601.77999999999,
         2
        ],
        [
         "PE",
         "sports_leisure",
         174,
         22025.229999999996,
         3
        ],
        [
         "PE",
         "telephony",
         137,
         11240.109999999995,
         4
        ],
        [
         "PE",
         "furniture_decor",
         133,
         12722.169999999998,
         5
        ],
        [
         "PI",
         "health_beauty",
         58,
         11437.38,
         1
        ],
        [
         "PI",
         "bed_bath_table",
         49,
         5724.55,
         2
        ],
        [
         "PI",
         "watches_gifts",
         46,
         8348.16,
         3
        ],
        [
         "PI",
         "auto",
         44,
         13785.679999999998,
         4
        ],
        [
         "PI",
         "telephony",
         41,
         3255.6600000000008,
         5
        ],
        [
         "PR",
         "furniture_decor",
         806,
         68986.10999999997,
         1
        ],
        [
         "PR",
         "bed_bath_table",
         570,
         54179.69999999996,
         2
        ],
        [
         "PR",
         "sports_leisure",
         568,
         64690.459999999985,
         3
        ],
        [
         "PR",
         "health_beauty",
         498,
         60060.20999999996,
         4
        ],
        [
         "PR",
         "computers_accessories",
         466,
         53053.539999999964,
         5
        ],
        [
         "RJ",
         "bed_bath_table",
         2019,
         175199.8500000006,
         1
        ],
        [
         "RJ",
         "furniture_decor",
         1446,
         121646.73000000021,
         2
        ],
        [
         "RJ",
         "sports_leisure",
         1229,
         138796.01000000027,
         3
        ],
        [
         "RJ",
         "computers_accessories",
         1220,
         142629.36000000025,
         4
        ],
        [
         "RJ",
         "health_beauty",
         1202,
         153475.55000000034,
         5
        ],
        [
         "RN",
         "health_beauty",
         59,
         13908.46,
         1
        ],
        [
         "RN",
         "watches_gifts",
         51,
         10409.32,
         2
        ],
        [
         "RN",
         "computers_accessories",
         38,
         3243.8699999999994,
         3
        ],
        [
         "RN",
         "bed_bath_table",
         38,
         4138.160000000001,
         4
        ],
        [
         "RN",
         "books_general_interest",
         33,
         1660.3,
         5
        ],
        [
         "RO",
         "computers_accessories",
         35,
         2476.4700000000003,
         1
        ],
        [
         "RO",
         "health_beauty",
         27,
         7304.76,
         2
        ],
        [
         "RO",
         "sports_leisure",
         24,
         3802.78,
         3
        ],
        [
         "RO",
         "telephony",
         21,
         720.0500000000001,
         4
        ],
        [
         "RO",
         "furniture_decor",
         18,
         2086.05,
         5
        ],
        [
         "RR",
         "sports_leisure",
         10,
         1668.5,
         1
        ],
        [
         "RR",
         "furniture_decor",
         8,
         825.44,
         2
        ],
        [
         "RR",
         "health_beauty",
         8,
         1132.17,
         3
        ],
        [
         "RR",
         "computers_accessories",
         5,
         468.01,
         4
        ],
        [
         "RR",
         "bed_bath_table",
         4,
         879.5999999999999,
         5
        ],
        [
         "RS",
         "furniture_decor",
         748,
         65117.76999999997,
         1
        ],
        [
         "RS",
         "bed_bath_table",
         731,
         68665.49999999997,
         2
        ],
        [
         "RS",
         "computers_accessories",
         661,
         73860.37999999998,
         3
        ],
        [
         "RS",
         "housewares",
         611,
         50826.39999999997,
         4
        ],
        [
         "RS",
         "sports_leisure",
         544,
         58628.18999999995,
         5
        ],
        [
         "SC",
         "furniture_decor",
         481,
         39429.159999999974,
         1
        ],
        [
         "SC",
         "sports_leisure",
         422,
         49050.10999999997,
         2
        ],
        [
         "SC",
         "bed_bath_table",
         409,
         37113.329999999965,
         3
        ],
        [
         "SC",
         "computers_accessories",
         392,
         47586.489999999976,
         4
        ],
        [
         "SC",
         "health_beauty",
         333,
         41285.59999999997,
         5
        ],
        [
         "SE",
         "garden_tools",
         45,
         4550.29,
         1
        ],
        [
         "SE",
         "health_beauty",
         40,
         8883.66,
         2
        ],
        [
         "SE",
         "computers_accessories",
         40,
         4652.6,
         3
        ],
        [
         "SE",
         "sports_leisure",
         40,
         3506.42,
         4
        ],
        [
         "SE",
         "furniture_decor",
         32,
         5512.6900000000005,
         5
        ],
        [
         "SP",
         "bed_bath_table",
         6499,
         565494.9799999951,
         1
        ],
        [
         "SP",
         "health_beauty",
         5001,
         502103.47999999934,
         2
        ],
        [
         "SP",
         "furniture_decor",
         4923,
         368419.5699999997,
         3
        ],
        [
         "SP",
         "computers_accessories",
         4179,
         456107.50999999914,
         4
        ],
        [
         "SP",
         "sports_leisure",
         4171,
         419751.6799999992,
         5
        ],
        [
         "TO",
         "health_beauty",
         53,
         5639.39,
         1
        ],
        [
         "TO",
         "watches_gifts",
         34,
         5819.89,
         2
        ],
        [
         "TO",
         "sports_leisure",
         27,
         5312.780000000001,
         3
        ],
        [
         "TO",
         "furniture_decor",
         24,
         3099.09,
         4
        ],
        [
         "TO",
         "computers_accessories",
         23,
         4505.869999999999,
         5
        ]
       ],
       "datasetInfos": [],
       "dbfsResultPath": null,
       "isJsonSchema": true,
       "metadata": {},
       "overflow": false,
       "plotOptions": {
        "customPlotOptions": {},
        "displayType": "table",
        "pivotAggregation": null,
        "pivotColumns": null,
        "xColumns": null,
        "yColumns": null
       },
       "removedWidgets": [],
       "schema": [
        {
         "metadata": "{}",
         "name": "customer_state",
         "type": "\"string\""
        },
        {
         "metadata": "{}",
         "name": "product_category_name_english",
         "type": "\"string\""
        },
        {
         "metadata": "{}",
         "name": "units_sold",
         "type": "\"long\""
        },
        {
         "metadata": "{}",
         "name": "total_revenue",
         "type": "\"double\""
        },
        {
         "metadata": "{}",
         "name": "rank",
         "type": "\"integer\""
        }
       ],
       "type": "table"
      }
     },
     "output_type": "display_data"
    }
   ],
   "source": [
    "from pyspark.sql.window import Window  # rank\n",
    "from pyspark.sql.functions import col,desc\n",
    "\n",
    "top_items = (df.withColumn(\"revenue\", col(\"price\") * col(\"order_item_id\"))\n",
    "              .groupBy(\"customer_state\", \"product_category_name_english\")\n",
    "              .agg(sum(\"order_item_id\").alias(\"units_sold\"), sum(\"revenue\").alias(\"total_revenue\"))\n",
    ")\n",
    "\n",
    "w = Window.partitionBy(\"customer_state\").orderBy(desc(\"units_sold\"))\n",
    "top5 = top_items.withColumn(\"rank\", row_number().over(w)).filter(col(\"rank\") <= 5)\n",
    "\n",
    "display(top5)\n"
   ]
  },
  {
   "cell_type": "markdown",
   "metadata": {
    "application/vnd.databricks.v1+cell": {
     "cellMetadata": {
      "byteLimit": 2048000,
      "rowLimit": 10000
     },
     "inputWidgets": {},
     "nuid": "1f72d5a9-aa68-413a-b33c-f5ff050be480",
     "showTitle": false,
     "tableResultSettingsMap": {},
     "title": ""
    }
   },
   "source": [
    "# Customer Lifetime Value (CLV)"
   ]
  },
  {
   "cell_type": "code",
   "execution_count": 0,
   "metadata": {
    "application/vnd.databricks.v1+cell": {
     "cellMetadata": {
      "byteLimit": 2048000,
      "rowLimit": 10000
     },
     "inputWidgets": {},
     "nuid": "f322f1bb-62ea-48c1-b75e-72c1d87c0c81",
     "showTitle": false,
     "tableResultSettingsMap": {},
     "title": ""
    }
   },
   "outputs": [
    {
     "output_type": "display_data",
     "data": {
      "text/html": [
       "<style scoped>\n",
       "  .table-result-container {\n",
       "    max-height: 300px;\n",
       "    overflow: auto;\n",
       "  }\n",
       "  table, th, td {\n",
       "    border: 1px solid black;\n",
       "    border-collapse: collapse;\n",
       "  }\n",
       "  th, td {\n",
       "    padding: 5px;\n",
       "  }\n",
       "  th {\n",
       "    text-align: left;\n",
       "  }\n",
       "</style><div class='table-result-container'><table class='table-result'><thead style='background-color: white'><tr><th>customer_unique_id</th><th>num_orders</th><th>total_revenue</th><th>days_active</th><th>clv</th></tr></thead><tbody><tr><td>c8460e4251689ba205045f3ea17884a1</td><td>4</td><td>14280.0</td><td>1</td><td>5212200.0</td></tr><tr><td>58c1b085b54c03a1f1ab5f13d64c2b1c</td><td>2</td><td>2999.98</td><td>1</td><td>1094992.7</td></tr><tr><td>0f5ac8d5c31de21d2f25e24be15bbffb</td><td>2</td><td>8398.8</td><td>4</td><td>766390.4999999999</td></tr><tr><td>0341bbd5c969923a0f801b9e2d10a7b8</td><td>2</td><td>3656.88</td><td>2</td><td>667380.6</td></tr><tr><td>1f98d2384ff7a372e6a2d3bb75cbcd54</td><td>2</td><td>3510.0</td><td>2</td><td>640575.0</td></tr><tr><td>c7fb8ec1ea35af7e89f989b6e17e2bd8</td><td>2</td><td>1319.4</td><td>1</td><td>481581.00000000006</td></tr><tr><td>a40096fc0a3862e9e12bc55b5f8e6ab2</td><td>3</td><td>925.9</td><td>1</td><td>337953.5</td></tr><tr><td>2e7c511f54e9d94776c606007d672a22</td><td>2</td><td>799.6</td><td>1</td><td>291854.0</td></tr><tr><td>2516f43838c4892e066fec28143efa64</td><td>2</td><td>754.0</td><td>1</td><td>275210.0</td></tr><tr><td>4c4b5dc90eb4e33188153ca3e7999f92</td><td>2</td><td>1159.98</td><td>2</td><td>211696.35</td></tr></tbody></table></div>"
      ]
     },
     "metadata": {
      "application/vnd.databricks.v1+output": {
       "addedWidgets": {},
       "aggData": [],
       "aggError": "",
       "aggOverflow": false,
       "aggSchema": [],
       "aggSeriesLimitReached": false,
       "aggType": "",
       "arguments": {},
       "columnCustomDisplayInfos": {},
       "data": [
        [
         "c8460e4251689ba205045f3ea17884a1",
         4,
         14280.0,
         1,
         5212200.0
        ],
        [
         "58c1b085b54c03a1f1ab5f13d64c2b1c",
         2,
         2999.98,
         1,
         1094992.7
        ],
        [
         "0f5ac8d5c31de21d2f25e24be15bbffb",
         2,
         8398.8,
         4,
         766390.4999999999
        ],
        [
         "0341bbd5c969923a0f801b9e2d10a7b8",
         2,
         3656.88,
         2,
         667380.6
        ],
        [
         "1f98d2384ff7a372e6a2d3bb75cbcd54",
         2,
         3510.0,
         2,
         640575.0
        ],
        [
         "c7fb8ec1ea35af7e89f989b6e17e2bd8",
         2,
         1319.4,
         1,
         481581.00000000006
        ],
        [
         "a40096fc0a3862e9e12bc55b5f8e6ab2",
         3,
         925.9,
         1,
         337953.5
        ],
        [
         "2e7c511f54e9d94776c606007d672a22",
         2,
         799.6,
         1,
         291854.0
        ],
        [
         "2516f43838c4892e066fec28143efa64",
         2,
         754.0,
         1,
         275210.0
        ],
        [
         "4c4b5dc90eb4e33188153ca3e7999f92",
         2,
         1159.98,
         2,
         211696.35
        ]
       ],
       "datasetInfos": [],
       "dbfsResultPath": null,
       "isJsonSchema": true,
       "metadata": {},
       "overflow": false,
       "plotOptions": {
        "customPlotOptions": {},
        "displayType": "table",
        "pivotAggregation": null,
        "pivotColumns": null,
        "xColumns": null,
        "yColumns": null
       },
       "removedWidgets": [],
       "schema": [
        {
         "metadata": "{}",
         "name": "customer_unique_id",
         "type": "\"string\""
        },
        {
         "metadata": "{}",
         "name": "num_orders",
         "type": "\"long\""
        },
        {
         "metadata": "{}",
         "name": "total_revenue",
         "type": "\"double\""
        },
        {
         "metadata": "{}",
         "name": "days_active",
         "type": "\"integer\""
        },
        {
         "metadata": "{}",
         "name": "clv",
         "type": "\"double\""
        }
       ],
       "type": "table"
      }
     },
     "output_type": "display_data"
    }
   ],
   "source": [
    "from pyspark.sql.functions import countDistinct\n",
    "\n",
    "user_stats = (df.groupBy(\"customer_unique_id\")\n",
    "                .agg(countDistinct(\"order_id\").alias(\"num_orders\"),\n",
    "                     sum(col(\"price\") * col(\"order_item_id\")).alias(\"total_revenue\"),\n",
    "                     datediff(max(\"order_purchase_timestamp\"), min(\"order_purchase_timestamp\")).alias(\"days_active\"))\n",
    "                .filter(col(\"days_active\") > 0)\n",
    "                .withColumn(\"clv\", (col(\"total_revenue\")/col(\"num_orders\")) * (col(\"num_orders\")/col(\"days_active\")) * 365)\n",
    ")\n",
    "\n",
    "display(user_stats.orderBy(desc(\"clv\")).limit(10))\n"
   ]
  },
  {
   "cell_type": "markdown",
   "metadata": {
    "application/vnd.databricks.v1+cell": {
     "cellMetadata": {
      "byteLimit": 2048000,
      "rowLimit": 10000
     },
     "inputWidgets": {},
     "nuid": "2555cf9c-5691-43e6-9c01-82aed853a636",
     "showTitle": false,
     "tableResultSettingsMap": {},
     "title": ""
    }
   },
   "source": [
    "# Purchase Funnel  "
   ]
  },
  {
   "cell_type": "code",
   "execution_count": 0,
   "metadata": {
    "application/vnd.databricks.v1+cell": {
     "cellMetadata": {
      "byteLimit": 2048000,
      "rowLimit": 10000
     },
     "inputWidgets": {},
     "nuid": "d7162d98-32e4-4594-92ea-cef4b6a47cbb",
     "showTitle": false,
     "tableResultSettingsMap": {},
     "title": ""
    }
   },
   "outputs": [
    {
     "output_type": "stream",
     "name": "stdout",
     "output_type": "stream",
     "text": [
      "Placed Orders: 99441\nPaid Orders: 99440 → Drop-off: 0.00%\nReviewed Orders: 99743 → Drop-off: -0.30%\n"
     ]
    }
   ],
   "source": [
    "placed = orders.select(\"order_id\").distinct().count()\n",
    "paid = payments.select(\"order_id\").distinct().count()\n",
    "reviewed = reviews.select(\"order_id\").distinct().count()\n",
    "\n",
    "drop1 = (1 - paid / placed) * 100\n",
    "drop2 = (1 - reviewed / paid) * 100\n",
    "\n",
    "print(f\"Placed Orders: {placed}\")\n",
    "print(f\"Paid Orders: {paid} → Drop-off: {drop1:.2f}%\")\n",
    "print(f\"Reviewed Orders: {reviewed} → Drop-off: {drop2:.2f}%\")\n"
   ]
  },
  {
   "cell_type": "markdown",
   "metadata": {
    "application/vnd.databricks.v1+cell": {
     "cellMetadata": {
      "byteLimit": 2048000,
      "rowLimit": 10000
     },
     "inputWidgets": {},
     "nuid": "bc695a5c-869d-4b34-9f38-ff9661481e5c",
     "showTitle": false,
     "tableResultSettingsMap": {},
     "title": ""
    }
   },
   "source": [
    "# Most Delayed Deliveries"
   ]
  },
  {
   "cell_type": "code",
   "execution_count": 0,
   "metadata": {
    "application/vnd.databricks.v1+cell": {
     "cellMetadata": {
      "byteLimit": 2048000,
      "rowLimit": 10000
     },
     "inputWidgets": {},
     "nuid": "192523a8-3901-4493-acdc-28816b675693",
     "showTitle": false,
     "tableResultSettingsMap": {},
     "title": ""
    }
   },
   "outputs": [
    {
     "output_type": "stream",
     "name": "stdout",
     "output_type": "stream",
     "text": [
      "+--------------------+--------------+------------+\n|            order_id|customer_state|actual_delay|\n+--------------------+--------------+------------+\n|1b3190b2dfa9d789e...|            RJ|         188|\n|ca07593549f1816d2...|            ES|         181|\n|47b40429ed8cce3ae...|            SP|         175|\n|2fe324febf907e3ea...|            SP|         167|\n|285ab9426d6982034...|            SE|         166|\n+--------------------+--------------+------------+\nonly showing top 5 rows\n\n"
     ]
    }
   ],
   "source": [
    "df = df.withColumn(\"actual_delay\", datediff(col(\"order_delivered_customer_date\"), col(\"order_estimated_delivery_date\")))\n",
    "df.select(\"order_id\", \"customer_state\", \"actual_delay\").filter(col(\"actual_delay\") > 0).orderBy(col(\"actual_delay\").desc()).show(5)\n"
   ]
  },
  {
   "cell_type": "markdown",
   "metadata": {
    "application/vnd.databricks.v1+cell": {
     "cellMetadata": {
      "byteLimit": 2048000,
      "rowLimit": 10000
     },
     "inputWidgets": {},
     "nuid": "796feca8-b1de-4d93-a1c8-2181844d54eb",
     "showTitle": false,
     "tableResultSettingsMap": {},
     "title": ""
    }
   },
   "source": [
    "# Revenue by Seller or Region"
   ]
  },
  {
   "cell_type": "code",
   "execution_count": 0,
   "metadata": {
    "application/vnd.databricks.v1+cell": {
     "cellMetadata": {
      "byteLimit": 2048000,
      "rowLimit": 10000
     },
     "inputWidgets": {},
     "nuid": "81aac0b1-807c-4880-ae82-fcf1aeff1824",
     "showTitle": false,
     "tableResultSettingsMap": {},
     "title": ""
    }
   },
   "outputs": [
    {
     "output_type": "stream",
     "name": "stdout",
     "output_type": "stream",
     "text": [
      "+--------------------+--------------------+\n|           seller_id|total_seller_revenue|\n+--------------------+--------------------+\n|4869f7a5dfa277a7d...|   229472.6300000005|\n|53243585a1d6dc264...|  222776.05000000002|\n|4a3ca9315b744ce9f...|   200472.9200000013|\n|fa1c13f2614d7b5c4...|   194042.0300000004|\n|7c67e1448b00f6e96...|           187923.89|\n|7e93a43ef30c4f03f...|  176431.86999999997|\n|da8622b14eb17ae28...|   160236.5700000011|\n|7a67c85e85bb2ce85...|  141745.53000000032|\n|1025f0e2d44d7041d...|  138968.55000000022|\n|955fee9216a65b617...|  135171.70000000024|\n+--------------------+--------------------+\nonly showing top 10 rows\n\n+--------------+------------------+\n|customer_state|     state_revenue|\n+--------------+------------------+\n|            SP| 5202955.049999814|\n|            RJ|1824092.6700000255|\n|            MG|1585308.0300000103|\n|            RS| 750304.0199999908|\n|            PR| 683083.7599999931|\n|            SC|520553.33999999723|\n|            BA| 511349.9899999987|\n|            DF| 302603.9400000001|\n|            GO| 294591.9500000001|\n|            ES| 275037.3100000004|\n+--------------+------------------+\nonly showing top 10 rows\n\n"
     ]
    }
   ],
   "source": [
    "df.groupBy(\"seller_id\").agg(sum(\"price\").alias(\"total_seller_revenue\")).orderBy(col(\"total_seller_revenue\").desc()).show(10)\n",
    "df.groupBy(\"customer_state\").agg(sum(\"price\").alias(\"state_revenue\")).orderBy(col(\"state_revenue\").desc()).show(10)\n"
   ]
  },
  {
   "cell_type": "code",
   "execution_count": 0,
   "metadata": {
    "application/vnd.databricks.v1+cell": {
     "cellMetadata": {
      "byteLimit": 2048000,
      "rowLimit": 10000
     },
     "inputWidgets": {},
     "nuid": "5c735f29-8327-47eb-8147-532310c8f11d",
     "showTitle": false,
     "tableResultSettingsMap": {},
     "title": ""
    }
   },
   "outputs": [
    {
     "output_type": "stream",
     "name": "stdout",
     "output_type": "stream",
     "text": [
      "['seller_id', 'product_id', 'customer_id', 'order_id', 'order_item_id', 'shipping_limit_date', 'price', 'freight_value', 'order_status', 'order_purchase_timestamp', 'order_approved_at', 'order_delivered_carrier_date', 'order_delivered_customer_date', 'order_estimated_delivery_date', 'customer_unique_id', 'customer_zip_code_prefix', 'customer_city', 'customer_state', 'product_category_name', 'product_name_lenght', 'product_description_lenght', 'product_photos_qty', 'product_weight_g', 'product_length_cm', 'product_height_cm', 'product_width_cm', 'product_category_name_english', 'seller_zip_code_prefix', 'seller_city', 'seller_state', 'actual_delay']\n"
     ]
    }
   ],
   "source": [
    "print(df.columns)"
   ]
  },
  {
   "cell_type": "code",
   "execution_count": 0,
   "metadata": {
    "application/vnd.databricks.v1+cell": {
     "cellMetadata": {
      "byteLimit": 2048000,
      "rowLimit": 10000
     },
     "inputWidgets": {},
     "nuid": "e824f81b-c1d3-48af-9d00-9b4f82ea483c",
     "showTitle": false,
     "tableResultSettingsMap": {},
     "title": ""
    }
   },
   "outputs": [],
   "source": [
    "df.write.mode(\"overwrite\").parquet(\"dbfs:/FileStore/cleaned_olist_data/\")"
   ]
  }
 ],
 "metadata": {
  "application/vnd.databricks.v1+notebook": {
   "computePreferences": null,
   "dashboards": [],
   "environmentMetadata": {
    "base_environment": "",
    "environment_version": "1"
   },
   "inputWidgetPreferences": null,
   "language": "python",
   "notebookMetadata": {
    "pythonIndentUnit": 4
   },
   "notebookName": "Olist_Ecommerce",
   "widgets": {}
  }
 },
 "nbformat": 4,
 "nbformat_minor": 0
}